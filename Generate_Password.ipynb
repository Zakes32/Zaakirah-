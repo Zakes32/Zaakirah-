{
 "cells": [
  {
   "cell_type": "code",
   "execution_count": 7,
   "metadata": {},
   "outputs": [
    {
     "name": "stdout",
     "output_type": "stream",
     "text": [
      "\u001b[1mWelcome to your password generator\u001b[0;0m\n"
     ]
    }
   ],
   "source": [
    "start = \"\\033[1m\"\n",
    "end = \"\\033[0;0m\"\n",
    "print (start+\"Welcome to your password generator\"+end)"
   ]
  },
  {
   "cell_type": "code",
   "execution_count": 8,
   "metadata": {},
   "outputs": [
    {
     "name": "stdout",
     "output_type": "stream",
     "text": [
      "How many passwards would you like to recieve? Enter in numbers only-  3\n"
     ]
    }
   ],
   "source": [
    "#num was created as an idea to ask user if they would like more than one sample of the different passwords\n",
    "Num = input('How many passwards would you like to recieve? Enter in numbers only- '+' ')\n",
    "Num = int(Num)\n"
   ]
  },
  {
   "cell_type": "code",
   "execution_count": 9,
   "metadata": {
    "scrolled": true
   },
   "outputs": [
    {
     "name": "stdout",
     "output_type": "stream",
     "text": [
      "Your password is:  \u001b[1m26lB9dICPxEt\u001b[0;0m\n",
      "Your password is:  \u001b[1mF24t%MMP7fyv\u001b[0;0m\n",
      "Your password is:  \u001b[1m9fbexcneH3#s\u001b[0;0m\n"
     ]
    }
   ],
   "source": [
    "# p is created so that we can extract how many times the user wants the sample\n",
    "# then c was created so that we can get a full random choice of characters from the chars variable\n",
    "#once the mission or code is completed we then excecute[print] it where the user will get to choose \n",
    "#which password works well with them \n",
    "\n",
    "import random\n",
    "chars = 'abcdefghijklmnopqrstuvwxyz1234567890ABCDEFGHIJKLMNOP!@#%^&*'\n",
    "\n",
    "start = \"\\033[1m\"\n",
    "end = \"\\033[0;0m\"\n",
    "for p in range(Num):\n",
    "    password = ''\n",
    "    for c in range(12):\n",
    "        password += random.choice(chars)\n",
    "    print('Your password is:  ' + start + password + end)\n",
    "    "
   ]
  },
  {
   "cell_type": "code",
   "execution_count": null,
   "metadata": {},
   "outputs": [],
   "source": []
  }
 ],
 "metadata": {
  "kernelspec": {
   "display_name": "Python 3",
   "language": "python",
   "name": "python3"
  },
  "language_info": {
   "codemirror_mode": {
    "name": "ipython",
    "version": 3
   },
   "file_extension": ".py",
   "mimetype": "text/x-python",
   "name": "python",
   "nbconvert_exporter": "python",
   "pygments_lexer": "ipython3",
   "version": "3.7.6"
  }
 },
 "nbformat": 4,
 "nbformat_minor": 4
}

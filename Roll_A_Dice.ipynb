{
 "cells": [
  {
   "cell_type": "code",
   "execution_count": 5,
   "metadata": {},
   "outputs": [],
   "source": [
    "import random    #this is going to introduce the use of the random method throughout the code"
   ]
  },
  {
   "cell_type": "code",
   "execution_count": 6,
   "metadata": {},
   "outputs": [
    {
     "name": "stdout",
     "output_type": "stream",
     "text": [
      "Welcome to\u001b[1m Roll A Dice \u001b[0;0mSimilator\n"
     ]
    }
   ],
   "source": [
    ">>> start = \"\\033[1m\"       # start and end is for the boldness in the heading that i wanted to implement just to show what the actual coding is for\n",
    ">>> end = \"\\033[0;0m\"\n",
    "print (\"Welcome to\" + start + \" \"+\"Roll A Dice\" + \" \"+ end + \"Similator\")\n"
   ]
  },
  {
   "cell_type": "code",
   "execution_count": 7,
   "metadata": {},
   "outputs": [],
   "source": [
    "import random\n",
    "def roll_dice():     # this is a function that is being created to store coding in order for the dice to roll\n",
    "    dice = random.randint(1, 6)    # random is being introduced so that we could get a number between 1 and 6 \n",
    "    print (dice)     "
   ]
  },
  {
   "cell_type": "code",
   "execution_count": null,
   "metadata": {},
   "outputs": [],
   "source": [
    "while True:\n",
    "    #roll_question is being created so that we could ask the user the question of wanting to roll or not\n",
    "        Roll_question = str(input('Are you ready to roll the dice?'+\" \"+'Enter Y or N'))\n",
    "        # then if the user answers yes the dice function will then choose a number between 1 - 6 \n",
    "        if Roll_question == \"y\":\n",
    "            print(\"Your dice numbers are:\")\n",
    "        print(dice)\n",
    "roll_dice()"
   ]
  },
  {
   "cell_type": "code",
   "execution_count": null,
   "metadata": {},
   "outputs": [],
   "source": [
    "# i created the repeat function to ask the user if they would want to roll the dice again.\n",
    "repeat = input('Do you want to roll again? Enter Y or N')\n"
   ]
  },
  {
   "cell_type": "code",
   "execution_count": null,
   "metadata": {},
   "outputs": [],
   "source": [
    "# if the user says yes with the indication of Y then the dice will roll again\n",
    "if repeat == 'Y':\n",
    "    continue\n",
    "\n",
    "else:\n",
    "    # and if the user user has indicated no then the return function will then return with the print of ok\n",
    "    print('Ok')"
   ]
  },
  {
   "cell_type": "code",
   "execution_count": null,
   "metadata": {},
   "outputs": [],
   "source": [
    "# this function is just an indication or another way if the user has replied with an answer of no \n",
    "# the dice will stop rolling in the end and just deliver the message\n",
    "print (\"Thank you for rolling the dice\")"
   ]
  },
  {
   "cell_type": "code",
   "execution_count": null,
   "metadata": {},
   "outputs": [],
   "source": []
  }
 ],
 "metadata": {
  "kernelspec": {
   "display_name": "Python 3",
   "language": "python",
   "name": "python3"
  }
 },
 "nbformat": 4,
 "nbformat_minor": 4
}

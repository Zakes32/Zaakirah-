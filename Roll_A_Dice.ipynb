{
 "cells": [
  {
   "cell_type": "code",
   "execution_count": 1,
   "metadata": {},
   "outputs": [
    {
     "name": "stdout",
     "output_type": "stream",
     "text": [
      "Welcome to\u001b[1m Roll A Dice \u001b[0;0mSimilator\n"
     ]
    }
   ],
   "source": [
    "import random\n",
    ">>> start = \"\\033[1m\"       # start and end is for the boldness in the heading that i wanted to implement just to show what the actual coding is for\n",
    ">>> end = \"\\033[0;0m\"\n",
    "print (\"Welcome to\" + start + \" \"+\"Roll A Dice\" + \" \"+ end + \"Similator\")\n"
   ]
  },
  {
   "cell_type": "code",
   "execution_count": 2,
   "metadata": {},
   "outputs": [],
   "source": [
    "min_value = 1\n",
    "max_value = 6        #this section is created to randomise between 1 and 6"
   ]
  },
  {
   "cell_type": "code",
   "execution_count": 3,
   "metadata": {},
   "outputs": [
    {
     "name": "stdout",
     "output_type": "stream",
     "text": [
      "2\n"
     ]
    }
   ],
   "source": [
    "#with this python then randomises the numbers and print them to make the user see\n",
    "print(random.randint(min_value, max_value))      \n"
   ]
  },
  {
   "cell_type": "code",
   "execution_count": null,
   "metadata": {},
   "outputs": [],
   "source": [
    "Roll_question = input(\"Would you like to roll the dice again?\")\n",
    "roll_again = True"
   ]
  },
  {
   "cell_type": "code",
   "execution_count": null,
   "metadata": {},
   "outputs": [],
   "source": [
    "#this section i created to give the user a choice of whether he/she would want \n",
    "# to roll the dice again \n",
    "while roll_again:\n",
    "    print(random.randint(min_value, max_value))\n",
    " \n",
    "    if Roll_question == 'yes' :\n",
    "        roll_again = True\n",
    "    else:\n",
    "        roll_again = False"
   ]
  },
  {
   "cell_type": "code",
   "execution_count": null,
   "metadata": {},
   "outputs": [],
   "source": [
    "if roll_again = False:\n",
    "    print(\"Thank you for choosing roll a dice similutor\")"
   ]
  },
  {
   "cell_type": "code",
   "execution_count": null,
   "metadata": {},
   "outputs": [],
   "source": []
  }
 ],
 "metadata": {
  "kernelspec": {
   "display_name": "Python 3",
   "language": "python",
   "name": "python3"
  },
  "language_info": {
   "codemirror_mode": {
    "name": "ipython",
    "version": 3
   },
   "file_extension": ".py",
   "mimetype": "text/x-python",
   "name": "python",
   "nbconvert_exporter": "python",
   "pygments_lexer": "ipython3",
   "version": "3.7.6"
  }
 },
 "nbformat": 4,
 "nbformat_minor": 4
}

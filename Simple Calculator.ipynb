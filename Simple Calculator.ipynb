{
 "cells": [
  {
   "cell_type": "code",
   "execution_count": null,
   "metadata": {},
   "outputs": [
    {
     "name": "stdout",
     "output_type": "stream",
     "text": [
      "This is the Menu for this calculator\n",
      "1.Add\n",
      "2.Subtract\n",
      "3.Multiplication\n",
      "4.Division\n",
      "5.Exit To exit this calculator enter the word\n",
      "Enter your choice, 1,2,3,4,5: 5\n",
      "Please restart and enter a proper value\n"
     ]
    }
   ],
   "source": [
    "import math \n",
    "def addition(x, y):\n",
    "    return x+y\n",
    "\n",
    "def multiplication(x, y):\n",
    "    return x*y\n",
    "\n",
    "def division(x, y):\n",
    "    return x/y\n",
    "\n",
    "def subtraction(x, y):\n",
    "    return x-y\n",
    "\n",
    "print('This is the Menu for this calculator')\n",
    "print('1.Add')\n",
    "print('2.Subtract')\n",
    "print('3.Multiplication')\n",
    "print('4.Division')\n",
    "print('5.Exit')\n",
    "\n",
    "\n",
    "while True:\n",
    "    Decision = input('Enter your choice, 1,2,3,4,5: ')\n",
    "    if Decision in ('1', '2', '3', '4'):\n",
    "        Number1 = float(input('Enter your first number'))\n",
    "        Number2 = float(input('Enter your second number'))\n",
    "        \n",
    "        if Decision == '1':\n",
    "            print('{} + {} = '.format(Number1, Number2))\n",
    "            print(Number1 + Number2)\n",
    "        elif Decision == '2':\n",
    "            print('{} - {} = '.format(Number1, Number2))\n",
    "            print(Number1 - Number2)\n",
    "        elif Decision == '3':\n",
    "            print('{} * {} = '.format(Number1, Number2))\n",
    "            print(Number1 * Number2)\n",
    "        elif Decision == '4':\n",
    "            print('{} / {} = '.format(Number1, Number2))\n",
    "            print(Number1 / Number2)\n",
    "        elif Decision == '5':\n",
    "            exit()\n",
    "        break\n",
    "    else:\n",
    "        print('Please restart and enter a proper value')\n",
    "    \n",
    "    "
   ]
  },
  {
   "cell_type": "code",
   "execution_count": null,
   "metadata": {},
   "outputs": [],
   "source": []
  },
  {
   "cell_type": "code",
   "execution_count": null,
   "metadata": {},
   "outputs": [],
   "source": []
  }
 ],
 "metadata": {
  "kernelspec": {
   "display_name": "Python 3",
   "language": "python",
   "name": "python3"
  },
  "language_info": {
   "codemirror_mode": {
    "name": "ipython",
    "version": 3
   },
   "file_extension": ".py",
   "mimetype": "text/x-python",
   "name": "python",
   "nbconvert_exporter": "python",
   "pygments_lexer": "ipython3",
   "version": "3.7.6"
  }
 },
 "nbformat": 4,
 "nbformat_minor": 4
}
